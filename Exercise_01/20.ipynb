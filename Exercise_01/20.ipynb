{
 "cells": [
  {
   "cell_type": "code",
   "id": "initial_id",
   "metadata": {
    "collapsed": true,
    "ExecuteTime": {
     "end_time": "2024-10-10T07:09:35.410935Z",
     "start_time": "2024-10-10T07:09:35.134845Z"
    }
   },
   "source": [
    "import cv2\n",
    "\n",
    "import numpy as np\n",
    "\n",
    "import helpers"
   ],
   "outputs": [],
   "execution_count": 1
  },
  {
   "metadata": {
    "collapsed": true,
    "ExecuteTime": {
     "end_time": "2024-10-10T07:09:37.944415Z",
     "start_time": "2024-10-10T07:09:35.432622Z"
    }
   },
   "cell_type": "code",
   "source": [
    "img = np.zeros((400,400,3), dtype=np.uint8)\n",
    "helpers.display_img(\"Image\", img)"
   ],
   "id": "c4b74c7195cec620",
   "outputs": [],
   "execution_count": 2
  },
  {
   "metadata": {
    "ExecuteTime": {
     "end_time": "2024-10-10T07:09:38.550950Z",
     "start_time": "2024-10-10T07:09:38.042484Z"
    }
   },
   "cell_type": "code",
   "source": [
    "cv2.line(img, (50,50), (350, 50), (0,255,255), 2)\n",
    "helpers.display_img(\"Image\", img)"
   ],
   "id": "53c9676eb301d276",
   "outputs": [],
   "execution_count": 3
  },
  {
   "metadata": {
    "ExecuteTime": {
     "end_time": "2024-10-10T07:09:38.932334Z",
     "start_time": "2024-10-10T07:09:38.568798Z"
    }
   },
   "cell_type": "code",
   "source": [
    "cv2.circle(img, (100,100), 50, (0,255,0), -1)\n",
    "helpers.display_img(\"Circle\", img)"
   ],
   "id": "f2057321c84cecd",
   "outputs": [],
   "execution_count": 4
  },
  {
   "metadata": {
    "ExecuteTime": {
     "end_time": "2024-10-10T07:09:39.634489Z",
     "start_time": "2024-10-10T07:09:38.967393Z"
    }
   },
   "cell_type": "code",
   "source": [
    "cv2.rectangle(img, (100,100), (300, 300), (128,255,255), -1)\n",
    "helpers.display_img(\"Rectangle\", img)"
   ],
   "id": "adb63d8c6c9d3e06",
   "outputs": [],
   "execution_count": 5
  },
  {
   "metadata": {
    "ExecuteTime": {
     "start_time": "2024-10-10T07:09:39.655475Z"
    }
   },
   "cell_type": "code",
   "source": [
    "content = \"Le Minh Nghia\"\n",
    "font = cv2.FONT_ITALIC\n",
    "cv2.putText(img, content, (10,380), font, 0.6, (255,255,255), 2)\n",
    "helpers.display_img(\"Image\", img)"
   ],
   "id": "f851a3b0456b97b6",
   "outputs": [
    {
     "ename": "KeyboardInterrupt",
     "evalue": "",
     "output_type": "error",
     "traceback": [
      "\u001B[0;31m---------------------------------------------------------------------------\u001B[0m",
      "\u001B[0;31mKeyboardInterrupt\u001B[0m                         Traceback (most recent call last)",
      "Cell \u001B[0;32mIn[6], line 4\u001B[0m\n\u001B[1;32m      2\u001B[0m font \u001B[38;5;241m=\u001B[39m cv2\u001B[38;5;241m.\u001B[39mFONT_ITALIC\n\u001B[1;32m      3\u001B[0m cv2\u001B[38;5;241m.\u001B[39mputText(img, content, (\u001B[38;5;241m10\u001B[39m,\u001B[38;5;241m380\u001B[39m), font, \u001B[38;5;241m0.6\u001B[39m, (\u001B[38;5;241m255\u001B[39m,\u001B[38;5;241m255\u001B[39m,\u001B[38;5;241m255\u001B[39m), \u001B[38;5;241m2\u001B[39m)\n\u001B[0;32m----> 4\u001B[0m helpers\u001B[38;5;241m.\u001B[39mdisplay_img(\u001B[38;5;124m\"\u001B[39m\u001B[38;5;124mImage\u001B[39m\u001B[38;5;124m\"\u001B[39m, img)\n",
      "File \u001B[0;32m~/Documents/Computer vision/Exercise_01/helpers.py:49\u001B[0m, in \u001B[0;36mdisplay_img\u001B[0;34m(title, img)\u001B[0m\n\u001B[1;32m     47\u001B[0m \u001B[38;5;28;01mdef\u001B[39;00m \u001B[38;5;21mdisplay_img\u001B[39m(title, img):\n\u001B[1;32m     48\u001B[0m     cv2\u001B[38;5;241m.\u001B[39mimshow(title, img)\n\u001B[0;32m---> 49\u001B[0m     cv2\u001B[38;5;241m.\u001B[39mwaitKey(\u001B[38;5;241m0\u001B[39m)\n\u001B[1;32m     50\u001B[0m     cv2\u001B[38;5;241m.\u001B[39mdestroyWindow(title)\n",
      "\u001B[0;31mKeyboardInterrupt\u001B[0m: "
     ]
    }
   ],
   "execution_count": 6
  },
  {
   "metadata": {},
   "cell_type": "code",
   "outputs": [],
   "execution_count": null,
   "source": "",
   "id": "bd1a035d92ed9b65"
  }
 ],
 "metadata": {
  "kernelspec": {
   "display_name": "Python 3",
   "language": "python",
   "name": "python3"
  },
  "language_info": {
   "codemirror_mode": {
    "name": "ipython",
    "version": 2
   },
   "file_extension": ".py",
   "mimetype": "text/x-python",
   "name": "python",
   "nbconvert_exporter": "python",
   "pygments_lexer": "ipython2",
   "version": "2.7.6"
  }
 },
 "nbformat": 4,
 "nbformat_minor": 5
}
