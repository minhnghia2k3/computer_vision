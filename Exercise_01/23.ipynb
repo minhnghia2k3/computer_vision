{
 "cells": [
  {
   "metadata": {},
   "cell_type": "code",
   "outputs": [],
   "execution_count": null,
   "source": [
    "import cv2\n",
    "import time"
   ],
   "id": "569a2f5419f7a8e6"
  },
  {
   "cell_type": "code",
   "id": "initial_id",
   "metadata": {
    "collapsed": true,
    "ExecuteTime": {
     "end_time": "2024-10-17T06:34:52.375137Z",
     "start_time": "2024-10-17T06:34:52.359785Z"
    }
   },
   "source": [
    "\n",
    "# Đọc video từ file\n",
    "camera = cv2.VideoCapture(0)\n",
    "# Tạo cửa sổ để hiển thị\n",
    "cv2.namedWindow('Video Player', cv2.WINDOW_NORMAL)\n",
    "# Ghi text trên hình ảnh\n",
    "font = cv2.FONT_HERSHEY_SIMPLEX\n",
    "font_color = (255, 255, 255)\n",
    "font_scale = 1\n",
    "font_thicknes = 2\n",
    "# Hiển thị từng khung ảnh\n",
    "while True:\n",
    "    # Thời gian trước khi đọc\n",
    "    start_time = time.time()\n",
    "    # Đọc 1 frame\n",
    "    ret, frame = camera.read()\n",
    "    # Thoát khi không thể đọc được frame\n",
    "    if not ret:\n",
    "        break\n",
    "    # Thời gian trước khi đọc\n",
    "    end_time = time.time()    \n",
    "    # Tình FPS:\n",
    "    fps = 1/(end_time-start_time)\n",
    "    # Ghi số lượng fps\n",
    "    cv2.putText(frame, f'FPS: {fps:.2f}', (100, 100), font, font_scale, font_color , font_thicknes)\n",
    "    # Hiển thị\n",
    "    cv2.imshow('Video Player', frame)\n",
    "    if(cv2.waitKey(10)==ord('q')):\n",
    "        break\n",
    "\n",
    "# Hủy bỏ player\n",
    "camera.release()\n",
    "cv2.destroyAllWindows()"
   ],
   "outputs": [],
   "execution_count": 11
  },
  {
   "metadata": {
    "ExecuteTime": {
     "end_time": "2024-10-17T06:34:52.709892Z",
     "start_time": "2024-10-17T06:34:52.443412Z"
    }
   },
   "cell_type": "code",
   "source": "camera = cv2.VideoCapture(0)",
   "id": "23a8d2513f524d08",
   "outputs": [],
   "execution_count": 12
  },
  {
   "metadata": {
    "ExecuteTime": {
     "end_time": "2024-10-17T06:34:52.813980Z",
     "start_time": "2024-10-17T06:34:52.804059Z"
    }
   },
   "cell_type": "code",
   "source": [
    "cv2.namedWindow('Video Player', cv2.WINDOW_NORMAL)\n",
    "interval = 20\n",
    "count = 0"
   ],
   "id": "dfa9ae61e2c6d5bf",
   "outputs": [],
   "execution_count": 13
  },
  {
   "metadata": {
    "ExecuteTime": {
     "end_time": "2024-10-17T06:34:52.935721Z",
     "start_time": "2024-10-17T06:34:52.922504Z"
    }
   },
   "cell_type": "code",
   "source": [
    "font = cv2.FONT_HERSHEY_SIMPLEX\n",
    "font_thickness = 2\n",
    "font_scale = 2\n",
    "font_color = (255, 255, 255)\n"
   ],
   "id": "aea984bb09a3424a",
   "outputs": [],
   "execution_count": 14
  },
  {
   "metadata": {
    "ExecuteTime": {
     "end_time": "2024-10-17T06:35:59.872119Z",
     "start_time": "2024-10-17T06:34:53.021435Z"
    }
   },
   "cell_type": "code",
   "source": [
    "# Hiển thị từng khung ảnh\n",
    "while True:\n",
    "    start_time = time.time()\n",
    "\n",
    "    # Đọc 1 frame\n",
    "    ret, frame = camera.read()\n",
    "\n",
    "    # Thoát khi không thể đọc được frame\n",
    "    if not ret:\n",
    "        break\n",
    "\n",
    "    count = count + 1\n",
    "    \n",
    "    if (count % interval == 0):\n",
    "        saved = cv2.imwrite(f'./data/image_{count}.jpg', frame)\n",
    "        if (saved):\n",
    "            print(\"Save successfully\")\n",
    "\n",
    "    end_time = time.time()\n",
    "\n",
    "    fps = 1 / (end_time - start_time)\n",
    "\n",
    "    # put text to the video\n",
    "    cv2.putText(frame, f'FPS: {fps:.2f}', (100, 100), font, font_scale, font_color, font_thickness)\n",
    "\n",
    "    cv2.imshow('Video Player', frame)\n",
    "\n",
    "    if cv2.waitKey(10) == ord('q'):\n",
    "        break\n",
    "        \n",
    "# Hủy bỏ player\n",
    "camera.release\n",
    "cv2.destroyAllWindows()"
   ],
   "id": "c67c8c91ef5e6e91",
   "outputs": [
    {
     "name": "stdout",
     "output_type": "stream",
     "text": [
      "Save successfully\n",
      "Save successfully\n",
      "Save successfully\n",
      "Save successfully\n",
      "Save successfully\n",
      "Save successfully\n",
      "Save successfully\n",
      "Save successfully\n",
      "Save successfully\n",
      "Save successfully\n",
      "Save successfully\n",
      "Save successfully\n",
      "Save successfully\n",
      "Save successfully\n",
      "Save successfully\n",
      "Save successfully\n",
      "Save successfully\n",
      "Save successfully\n",
      "Save successfully\n",
      "Save successfully\n",
      "Save successfully\n",
      "Save successfully\n",
      "Save successfully\n",
      "Save successfully\n",
      "Save successfully\n",
      "Save successfully\n",
      "Save successfully\n",
      "Save successfully\n",
      "Save successfully\n",
      "Save successfully\n",
      "Save successfully\n",
      "Save successfully\n",
      "Save successfully\n",
      "Save successfully\n",
      "Save successfully\n",
      "Save successfully\n",
      "Save successfully\n",
      "Save successfully\n",
      "Save successfully\n",
      "Save successfully\n",
      "Save successfully\n",
      "Save successfully\n",
      "Save successfully\n",
      "Save successfully\n",
      "Save successfully\n",
      "Save successfully\n",
      "Save successfully\n",
      "Save successfully\n",
      "Save successfully\n",
      "Save successfully\n",
      "Save successfully\n",
      "Save successfully\n",
      "Save successfully\n",
      "Save successfully\n",
      "Save successfully\n",
      "Save successfully\n",
      "Save successfully\n",
      "Save successfully\n",
      "Save successfully\n",
      "Save successfully\n",
      "Save successfully\n"
     ]
    }
   ],
   "execution_count": 15
  }
 ],
 "metadata": {
  "kernelspec": {
   "display_name": "Python 3",
   "language": "python",
   "name": "python3"
  },
  "language_info": {
   "codemirror_mode": {
    "name": "ipython",
    "version": 2
   },
   "file_extension": ".py",
   "mimetype": "text/x-python",
   "name": "python",
   "nbconvert_exporter": "python",
   "pygments_lexer": "ipython2",
   "version": "2.7.6"
  }
 },
 "nbformat": 4,
 "nbformat_minor": 5
}
