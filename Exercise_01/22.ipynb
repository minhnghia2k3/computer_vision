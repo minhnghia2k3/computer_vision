{
 "cells": [
  {
   "cell_type": "code",
   "id": "initial_id",
   "metadata": {
    "collapsed": true,
    "ExecuteTime": {
     "end_time": "2024-10-10T07:36:01.010253Z",
     "start_time": "2024-10-10T07:36:00.603906Z"
    }
   },
   "source": [
    "import cv2\n",
    "import time"
   ],
   "outputs": [],
   "execution_count": 1
  },
  {
   "metadata": {
    "ExecuteTime": {
     "end_time": "2024-10-10T07:36:01.119495Z",
     "start_time": "2024-10-10T07:36:01.057671Z"
    }
   },
   "cell_type": "code",
   "source": "my_video = cv2.VideoCapture(\"./assets/30_fps_video.mp4\")",
   "id": "23a8d2513f524d08",
   "outputs": [],
   "execution_count": 2
  },
  {
   "metadata": {
    "ExecuteTime": {
     "end_time": "2024-10-10T07:36:01.522963Z",
     "start_time": "2024-10-10T07:36:01.316176Z"
    }
   },
   "cell_type": "code",
   "source": "cv2.namedWindow('Video Player', cv2.WINDOW_NORMAL)",
   "id": "dfa9ae61e2c6d5bf",
   "outputs": [],
   "execution_count": 3
  },
  {
   "metadata": {
    "ExecuteTime": {
     "end_time": "2024-10-10T07:36:01.625740Z",
     "start_time": "2024-10-10T07:36:01.595351Z"
    }
   },
   "cell_type": "code",
   "source": [
    "font = cv2.FONT_HERSHEY_SIMPLEX\n",
    "font_thickness = 2\n",
    "font_scale = 2\n",
    "font_color = (255, 255, 255)\n"
   ],
   "id": "aea984bb09a3424a",
   "outputs": [],
   "execution_count": 4
  },
  {
   "metadata": {},
   "cell_type": "code",
   "outputs": [],
   "execution_count": null,
   "source": "",
   "id": "3e40dd63ab6a0e12"
  },
  {
   "metadata": {
    "ExecuteTime": {
     "end_time": "2024-10-10T07:36:18.436372Z",
     "start_time": "2024-10-10T07:36:01.677347Z"
    }
   },
   "cell_type": "code",
   "source": [
    "# Hiển thị từng khung ảnh\n",
    "while True:\n",
    "    start_time = time.time()\n",
    "\n",
    "    # Đọc 1 frame\n",
    "    ret, frame = my_video.read()\n",
    "\n",
    "    # Thoát khi không thể đọc được frame\n",
    "    if not ret:\n",
    "        break\n",
    "\n",
    "    end_time = time.time()\n",
    "\n",
    "    fps = 1 / (end_time - start_time)\n",
    "    \n",
    "    # put text to the video\n",
    "    cv2.putText(frame, f'FPS: {fps:.2f}', (100,100), font, font_scale, font_color, font_thickness)\n",
    "    \n",
    "    cv2.imshow('Video Player', frame)\n",
    "\n",
    "    if cv2.waitKey(10) == ord('q'):\n",
    "        break"
   ],
   "id": "c67c8c91ef5e6e91",
   "outputs": [],
   "execution_count": 5
  },
  {
   "metadata": {
    "ExecuteTime": {
     "end_time": "2024-10-10T07:36:18.537673Z",
     "start_time": "2024-10-10T07:36:18.513690Z"
    }
   },
   "cell_type": "code",
   "source": [
    "# Hủy bỏ player\n",
    "my_video.release\n",
    "cv2.destroyAllWindows()"
   ],
   "id": "3df027c50d437e01",
   "outputs": [],
   "execution_count": 6
  },
  {
   "metadata": {
    "ExecuteTime": {
     "end_time": "2024-10-10T07:36:18.604977Z",
     "start_time": "2024-10-10T07:36:18.583405Z"
    }
   },
   "cell_type": "code",
   "source": "",
   "id": "676f03dbc9f91b68",
   "outputs": [],
   "execution_count": null
  }
 ],
 "metadata": {
  "kernelspec": {
   "display_name": "Python 3",
   "language": "python",
   "name": "python3"
  },
  "language_info": {
   "codemirror_mode": {
    "name": "ipython",
    "version": 2
   },
   "file_extension": ".py",
   "mimetype": "text/x-python",
   "name": "python",
   "nbconvert_exporter": "python",
   "pygments_lexer": "ipython2",
   "version": "2.7.6"
  }
 },
 "nbformat": 4,
 "nbformat_minor": 5
}
