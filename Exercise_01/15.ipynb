{
 "cells": [
  {
   "cell_type": "code",
   "id": "initial_id",
   "metadata": {
    "collapsed": true,
    "ExecuteTime": {
     "end_time": "2024-09-26T06:22:30.503596Z",
     "start_time": "2024-09-26T06:22:29.124240Z"
    }
   },
   "source": [
    "from scipy import linalg\n",
    "import numpy as np"
   ],
   "outputs": [],
   "execution_count": 1
  },
  {
   "metadata": {
    "ExecuteTime": {
     "end_time": "2024-09-26T06:23:34.576134Z",
     "start_time": "2024-09-26T06:23:34.558001Z"
    }
   },
   "cell_type": "code",
   "source": [
    "A = np.array([\n",
    "    [1, 4],\n",
    "    [3, 5]\n",
    "])\n",
    "b = np.array([6, 10])\n",
    "\n",
    "x = linalg.solve(A, b)\n",
    "print(\"Result: \", x)"
   ],
   "id": "87edde5ca0b6427d",
   "outputs": [
    {
     "name": "stdout",
     "output_type": "stream",
     "text": [
      "Result:  [1.42857143 1.14285714]\n"
     ]
    }
   ],
   "execution_count": 2
  },
  {
   "metadata": {
    "ExecuteTime": {
     "end_time": "2024-09-26T06:28:46.089469Z",
     "start_time": "2024-09-26T06:28:46.068756Z"
    }
   },
   "cell_type": "code",
   "source": [
    "# Tich phan cua mot ham so\n",
    "from scipy import integrate\n",
    "\n",
    "\n",
    "# f(x) = x^2\n",
    "def my_func(x):\n",
    "    return 2 * (x ** 2)\n",
    "\n",
    "# Tinh tich phan f(x) tu 0-1\n",
    "integral = integrate.quad(my_func, 0, 1)\n",
    "print(\"Tich phan tu 0-1 cua ham f(x): \", integral)"
   ],
   "id": "5e23e9f0d5d158dc",
   "outputs": [
    {
     "name": "stdout",
     "output_type": "stream",
     "text": [
      "Tich phan tu 0-1 cua ham f(x):  (0.6666666666666667, 7.401486830834377e-15)\n"
     ]
    }
   ],
   "execution_count": 7
  },
  {
   "metadata": {
    "ExecuteTime": {
     "end_time": "2024-09-26T06:27:21.546417Z",
     "start_time": "2024-09-26T06:27:21.521720Z"
    }
   },
   "cell_type": "code",
   "source": [
    "# Tinh gia tri rieng va vector rieng\n",
    "A = np.array([\n",
    "    [2, 7],\n",
    "    [-2, 17]\n",
    "])\n",
    "\n",
    "evals, evecs = linalg.eig(A)\n",
    "print(\"Gia tri rieng: \", evals)\n",
    "print(\"Vector rieng: \", evecs)\n"
   ],
   "id": "9938c6b3f987c9af",
   "outputs": [
    {
     "name": "stdout",
     "output_type": "stream",
     "text": [
      "Gia tri rieng:  [ 3.+0.j 16.+0.j]\n",
      "Vector rieng:  [[-0.98994949 -0.4472136 ]\n",
      " [-0.14142136 -0.89442719]]\n"
     ]
    }
   ],
   "execution_count": 6
  },
  {
   "metadata": {},
   "cell_type": "code",
   "outputs": [],
   "execution_count": null,
   "source": "",
   "id": "ebc36b281bcfef5e"
  }
 ],
 "metadata": {
  "kernelspec": {
   "display_name": "Python 3",
   "language": "python",
   "name": "python3"
  },
  "language_info": {
   "codemirror_mode": {
    "name": "ipython",
    "version": 2
   },
   "file_extension": ".py",
   "mimetype": "text/x-python",
   "name": "python",
   "nbconvert_exporter": "python",
   "pygments_lexer": "ipython2",
   "version": "2.7.6"
  }
 },
 "nbformat": 4,
 "nbformat_minor": 5
}
