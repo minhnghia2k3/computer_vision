{
 "cells": [
  {
   "cell_type": "code",
   "execution_count": 2,
   "id": "893df742-aacf-4adc-b892-49ed5ba5ae6b",
   "metadata": {},
   "outputs": [],
   "source": [
    "import numpy as np\n",
    "from PIL import Image\n",
    "import matplotlib.pyplot as plt\n",
    "\n",
    "def histogram_equalization(image, nbr_bins=256):\n",
    "    # Đảm bảo hình ảnh đầu vào là ảnh xám\n",
    "    if image.mode != 'L':\n",
    "        image = image.convert('L')\n",
    "    \n",
    "    # Chuyển đổi hình ảnh thành mảng NumPy\n",
    "    image_array = np.array(image)\n",
    "\n",
    "    # Tính toán histogram của ảnh\n",
    "    histogram, bins = np.histogram(image_array, bins=nbr_bins, range=(0, 256), density=True)\n",
    "\n",
    "    # Tính toán hàm phân phối tích luỹ (CDF - Cumulative Distribution Function)\n",
    "    cdf = histogram.cumsum()\n",
    "    cdf = 255 * cdf / cdf[-1]\n",
    "\n",
    "    # Lấy giá trị mới cho từng pixel dựa trên CDF\n",
    "    image_equalized = np.interp(image_array, bins[:-1], cdf)\n",
    "\n",
    "    # Chuyển đổi mảng kết quả thành hình ảnh\n",
    "    equalized_image = Image.fromarray(image_equalized.astype('uint8'))\n",
    "\n",
    "    return equalized_image"
   ]
  },
  {
   "cell_type": "code",
   "execution_count": 4,
   "id": "e405f798-cd1f-42ce-be3c-b8838b398f2d",
   "metadata": {},
   "outputs": [
    {
     "ename": "FileNotFoundError",
     "evalue": "[Errno 2] No such file or directory: 'C:\\\\Users\\\\tungi\\\\OneDrive\\\\Documents\\\\src_cv\\\\img\\\\01\\\\face1.jpg'",
     "output_type": "error",
     "traceback": [
      "\u001b[1;31m---------------------------------------------------------------------------\u001b[0m",
      "\u001b[1;31mFileNotFoundError\u001b[0m                         Traceback (most recent call last)",
      "Cell \u001b[1;32mIn[4], line 3\u001b[0m\n\u001b[0;32m      1\u001b[0m \u001b[38;5;66;03m# Đọc hình ảnh từ tệp\u001b[39;00m\n\u001b[0;32m      2\u001b[0m my_path \u001b[38;5;241m=\u001b[39m \u001b[38;5;124m'\u001b[39m\u001b[38;5;124mC:/Users/tungi/OneDrive/Documents/src_cv/img/01/face1.jpg\u001b[39m\u001b[38;5;124m'\u001b[39m\n\u001b[1;32m----> 3\u001b[0m image \u001b[38;5;241m=\u001b[39m Image\u001b[38;5;241m.\u001b[39mopen(my_path)\n\u001b[0;32m      5\u001b[0m \u001b[38;5;66;03m# Áp dụng cân bằng lược đồ ảnh xám\u001b[39;00m\n\u001b[0;32m      6\u001b[0m equalized_image \u001b[38;5;241m=\u001b[39m histogram_equalization(image)\n",
      "File \u001b[1;32m~\\AppData\\Roaming\\Python\\Python312\\site-packages\\PIL\\Image.py:3431\u001b[0m, in \u001b[0;36mopen\u001b[1;34m(fp, mode, formats)\u001b[0m\n\u001b[0;32m   3428\u001b[0m     filename \u001b[38;5;241m=\u001b[39m os\u001b[38;5;241m.\u001b[39mpath\u001b[38;5;241m.\u001b[39mrealpath(os\u001b[38;5;241m.\u001b[39mfspath(fp))\n\u001b[0;32m   3430\u001b[0m \u001b[38;5;28;01mif\u001b[39;00m filename:\n\u001b[1;32m-> 3431\u001b[0m     fp \u001b[38;5;241m=\u001b[39m builtins\u001b[38;5;241m.\u001b[39mopen(filename, \u001b[38;5;124m\"\u001b[39m\u001b[38;5;124mrb\u001b[39m\u001b[38;5;124m\"\u001b[39m)\n\u001b[0;32m   3432\u001b[0m     exclusive_fp \u001b[38;5;241m=\u001b[39m \u001b[38;5;28;01mTrue\u001b[39;00m\n\u001b[0;32m   3433\u001b[0m \u001b[38;5;28;01melse\u001b[39;00m:\n",
      "\u001b[1;31mFileNotFoundError\u001b[0m: [Errno 2] No such file or directory: 'C:\\\\Users\\\\tungi\\\\OneDrive\\\\Documents\\\\src_cv\\\\img\\\\01\\\\face1.jpg'"
     ]
    }
   ],
   "source": [
    "# Đọc hình ảnh từ tệp\n",
    "my_path = 'C:/Users/Admin/Downloads/01/02.jpg'\n",
    "image = Image.open(my_path)\n",
    "\n",
    "# Áp dụng cân bằng lược đồ ảnh xám\n",
    "equalized_image = histogram_equalization(image)\n",
    "\n",
    "# Tạo một lưới 2x2 để hiển thị hình ảnh và biểu đồ\n",
    "plt.figure(figsize=(15, 10))\n",
    "\n",
    "# Hiển thị hình ảnh gốc\n",
    "plt.subplot(2, 2, 1)\n",
    "plt.imshow(image.convert(\"L\"), cmap='gray')\n",
    "plt.title('Hình ảnh gốc')\n",
    "\n",
    "# Vẽ biểu đồ histogram của hình ảnh gốc\n",
    "plt.subplot(2, 2, 2)\n",
    "plt.hist(np.array(image.convert(\"L\")).flatten(), bins=128)\n",
    "plt.title('Biểu đồ Histogram - Hình ảnh gốc')\n",
    "\n",
    "# Hiển thị hình ảnh đã cân bằng\n",
    "plt.subplot(2, 2, 3)\n",
    "plt.imshow(equalized_image, cmap='gray')\n",
    "plt.title('Hình ảnh đã cân bằng')\n",
    "\n",
    "# Vẽ biểu đồ histogram của hình ảnh đã cân bằng\n",
    "plt.subplot(2, 2, 4)\n",
    "plt.hist(np.array(equalized_image).flatten(), bins=128)\n",
    "plt.title('Biểu đồ Histogram - Hình ảnh đã cân bằng')\n",
    "\n",
    "plt.show()"
   ]
  },
  {
   "cell_type": "code",
   "execution_count": null,
   "id": "00bc38bc-7d0c-4530-8fc4-5d6ac1480384",
   "metadata": {},
   "outputs": [],
   "source": []
  }
 ],
 "metadata": {
  "kernelspec": {
   "display_name": "Python 3 (ipykernel)",
   "language": "python",
   "name": "python3"
  },
  "language_info": {
   "codemirror_mode": {
    "name": "ipython",
    "version": 3
   },
   "file_extension": ".py",
   "mimetype": "text/x-python",
   "name": "python",
   "nbconvert_exporter": "python",
   "pygments_lexer": "ipython3",
   "version": "3.12.4"
  }
 },
 "nbformat": 4,
 "nbformat_minor": 5
}
