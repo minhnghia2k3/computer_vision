{
 "cells": [
  {
   "cell_type": "code",
   "execution_count": 15,
   "id": "8387e398-b69c-4c41-882f-9068305362eb",
   "metadata": {},
   "outputs": [
    {
     "ename": "ModuleNotFoundError",
     "evalue": "No module named 'imgtools'",
     "output_type": "error",
     "traceback": [
      "\u001b[1;31m---------------------------------------------------------------------------\u001b[0m",
      "\u001b[1;31mModuleNotFoundError\u001b[0m                       Traceback (most recent call last)",
      "Cell \u001b[1;32mIn[15], line 3\u001b[0m\n\u001b[0;32m      1\u001b[0m \u001b[38;5;66;03m# Import lớp Image\u001b[39;00m\n\u001b[0;32m      2\u001b[0m \u001b[38;5;28;01mfrom\u001b[39;00m \u001b[38;5;21;01mPIL\u001b[39;00m \u001b[38;5;28;01mimport\u001b[39;00m Image\n\u001b[1;32m----> 3\u001b[0m \u001b[38;5;28;01mfrom\u001b[39;00m \u001b[38;5;21;01mimgtools\u001b[39;00m \u001b[38;5;28;01mimport\u001b[39;00m \u001b[38;5;241m*\u001b[39m\n\u001b[0;32m      4\u001b[0m \u001b[38;5;28;01mfrom\u001b[39;00m \u001b[38;5;21;01mIPython\u001b[39;00m\u001b[38;5;21;01m.\u001b[39;00m\u001b[38;5;21;01mdisplay\u001b[39;00m \u001b[38;5;28;01mimport\u001b[39;00m display \u001b[38;5;66;03m# to display images\u001b[39;00m\n\u001b[0;32m      6\u001b[0m \u001b[38;5;66;03m# Task: lưu ảnh\u001b[39;00m\n\u001b[0;32m      7\u001b[0m \n\u001b[0;32m      8\u001b[0m \u001b[38;5;66;03m# Thay đổi kích thước\u001b[39;00m\n",
      "\u001b[1;31mModuleNotFoundError\u001b[0m: No module named 'imgtools'"
     ]
    }
   ],
   "source": [
    "# Import lớp Image\n",
    "from PIL import Image\n",
    "from imgtools import *\n",
    "from IPython.display import display # to display images\n",
    "\n",
    "# Task: lưu ảnh\n",
    "\n",
    "# Thay đổi kích thước\n",
    "thumbnail_size = (50,50)\n",
    "img.thumbnail(thumbnail_size)\n",
    "display(img)\n",
    "# Task: lưu ảnh\n"
   ]
  },
  {
   "cell_type": "code",
   "execution_count": 17,
   "id": "6b80d94d-4eee-45ad-92d0-51fa70d1fcc7",
   "metadata": {},
   "outputs": [],
   "source": [
    "# Đường dẫn ảnh\n",
    "my_path = 'C:/Users/Admin/Downloads/01/1.jpg'\n",
    "\n"
   ]
  },
  {
   "cell_type": "code",
   "execution_count": 19,
   "id": "892edf9f-4db4-462e-b685-ea3f6a90895b",
   "metadata": {},
   "outputs": [
    {
     "ename": "NameError",
     "evalue": "name 'load_image' is not defined",
     "output_type": "error",
     "traceback": [
      "\u001b[1;31m---------------------------------------------------------------------------\u001b[0m",
      "\u001b[1;31mNameError\u001b[0m                                 Traceback (most recent call last)",
      "Cell \u001b[1;32mIn[19], line 2\u001b[0m\n\u001b[0;32m      1\u001b[0m \u001b[38;5;66;03m# Đọc ảnh \u001b[39;00m\n\u001b[1;32m----> 2\u001b[0m img \u001b[38;5;241m=\u001b[39m load_image(my_path)\n\u001b[0;32m      3\u001b[0m display(img)\n",
      "\u001b[1;31mNameError\u001b[0m: name 'load_image' is not defined"
     ]
    }
   ],
   "source": [
    "# Đọc ảnh \n",
    "img = load_image(my_path)\n",
    "display(img)"
   ]
  },
  {
   "cell_type": "code",
   "execution_count": 21,
   "id": "4b4898af-1db2-4729-8748-1d006e8eda98",
   "metadata": {},
   "outputs": [
    {
     "ename": "NameError",
     "evalue": "name 'img' is not defined",
     "output_type": "error",
     "traceback": [
      "\u001b[1;31m---------------------------------------------------------------------------\u001b[0m",
      "\u001b[1;31mNameError\u001b[0m                                 Traceback (most recent call last)",
      "Cell \u001b[1;32mIn[21], line 2\u001b[0m\n\u001b[0;32m      1\u001b[0m \u001b[38;5;66;03m# Kích thước ban đầu:\u001b[39;00m\n\u001b[1;32m----> 2\u001b[0m \u001b[38;5;28mprint\u001b[39m(img\u001b[38;5;241m.\u001b[39msize)\n\u001b[0;32m      3\u001b[0m (\u001b[38;5;241m500\u001b[39m, \u001b[38;5;241m332\u001b[39m)\n",
      "\u001b[1;31mNameError\u001b[0m: name 'img' is not defined"
     ]
    }
   ],
   "source": [
    "# Kích thước ban đầu:\n",
    "print(img.size)\n",
    "(500, 332)"
   ]
  },
  {
   "cell_type": "code",
   "execution_count": 23,
   "id": "c45edec4-067e-4770-9b4f-d7822df21aa4",
   "metadata": {},
   "outputs": [
    {
     "ename": "NameError",
     "evalue": "name 'img' is not defined",
     "output_type": "error",
     "traceback": [
      "\u001b[1;31m---------------------------------------------------------------------------\u001b[0m",
      "\u001b[1;31mNameError\u001b[0m                                 Traceback (most recent call last)",
      "Cell \u001b[1;32mIn[23], line 3\u001b[0m\n\u001b[0;32m      1\u001b[0m \u001b[38;5;66;03m# Thay đổi kích thước\u001b[39;00m\n\u001b[0;32m      2\u001b[0m new_size \u001b[38;5;241m=\u001b[39m (\u001b[38;5;241m1000\u001b[39m,\u001b[38;5;241m1000\u001b[39m)\n\u001b[1;32m----> 3\u001b[0m new_image \u001b[38;5;241m=\u001b[39m img\u001b[38;5;241m.\u001b[39mresize(new_size)\n\u001b[0;32m      4\u001b[0m display(new_image)\n",
      "\u001b[1;31mNameError\u001b[0m: name 'img' is not defined"
     ]
    }
   ],
   "source": [
    "# Thay đổi kích thước\n",
    "new_size = (1000,1000)\n",
    "new_image = img.resize(new_size)\n",
    "display(new_image)"
   ]
  },
  {
   "cell_type": "code",
   "execution_count": 25,
   "id": "8c254675-362f-4b66-9fc9-ffb2a890124e",
   "metadata": {},
   "outputs": [
    {
     "ename": "NameError",
     "evalue": "name 'img' is not defined",
     "output_type": "error",
     "traceback": [
      "\u001b[1;31m---------------------------------------------------------------------------\u001b[0m",
      "\u001b[1;31mNameError\u001b[0m                                 Traceback (most recent call last)",
      "Cell \u001b[1;32mIn[25], line 3\u001b[0m\n\u001b[0;32m      1\u001b[0m \u001b[38;5;66;03m# Thay đổi kích thước\u001b[39;00m\n\u001b[0;32m      2\u001b[0m thumbnail_size \u001b[38;5;241m=\u001b[39m (\u001b[38;5;241m50\u001b[39m,\u001b[38;5;241m50\u001b[39m)\n\u001b[1;32m----> 3\u001b[0m img\u001b[38;5;241m.\u001b[39mthumbnail(thumbnail_size)\n\u001b[0;32m      4\u001b[0m display(img)\n",
      "\u001b[1;31mNameError\u001b[0m: name 'img' is not defined"
     ]
    }
   ],
   "source": [
    "# Thay đổi kích thước\n",
    "thumbnail_size = (50,50)\n",
    "img.thumbnail(thumbnail_size)\n",
    "display(img)"
   ]
  },
  {
   "cell_type": "code",
   "execution_count": null,
   "id": "9c1eeacb-daa6-4d46-8510-3603449c27c8",
   "metadata": {},
   "outputs": [],
   "source": []
  },
  {
   "cell_type": "code",
   "execution_count": null,
   "id": "a51e8a6c-515e-4ca1-8657-e1724a237691",
   "metadata": {},
   "outputs": [],
   "source": []
  },
  {
   "cell_type": "code",
   "execution_count": null,
   "id": "34fafd15-9f55-417f-9a78-6aab3c4ff95a",
   "metadata": {},
   "outputs": [],
   "source": []
  }
 ],
 "metadata": {
  "kernelspec": {
   "display_name": "Python 3 (ipykernel)",
   "language": "python",
   "name": "python3"
  },
  "language_info": {
   "codemirror_mode": {
    "name": "ipython",
    "version": 3
   },
   "file_extension": ".py",
   "mimetype": "text/x-python",
   "name": "python",
   "nbconvert_exporter": "python",
   "pygments_lexer": "ipython3",
   "version": "3.12.4"
  }
 },
 "nbformat": 4,
 "nbformat_minor": 5
}
