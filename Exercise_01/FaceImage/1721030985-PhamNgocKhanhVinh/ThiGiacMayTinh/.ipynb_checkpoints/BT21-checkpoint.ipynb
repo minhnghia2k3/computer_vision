{
 "cells": [
  {
   "cell_type": "code",
   "execution_count": 21,
   "id": "16617b63-6a44-4def-9140-d680f413a769",
   "metadata": {},
   "outputs": [],
   "source": [
    "import cv2"
   ]
  },
  {
   "cell_type": "code",
   "execution_count": 23,
   "id": "4d57ae09-1623-42dc-8381-4134f3b3e031",
   "metadata": {},
   "outputs": [],
   "source": [
    "my_video = cv2.VideoCapture('C:/Users/Admin/Downloads/01/data/Miku.mp4')"
   ]
  },
  {
   "cell_type": "code",
   "execution_count": 25,
   "id": "bbc65028-665a-44ed-802a-a2824e62c194",
   "metadata": {},
   "outputs": [],
   "source": [
    "cv2.namedWindow('Video Player', cv2.WINDOW_NORMAL)"
   ]
  },
  {
   "cell_type": "code",
   "execution_count": 27,
   "id": "364b7294-3463-45dd-ab3c-236c90eed67f",
   "metadata": {},
   "outputs": [],
   "source": [
    "while True:\n",
    "    # Đọc 1 frame\n",
    "    ret, frame = my_video.read()\n",
    "    \n",
    "    # Thoát khi không thể đọc được frame\n",
    "    if not ret:\n",
    "        break\n",
    "    \n",
    "    # Hiển thị\n",
    "    cv2.imshow('Video Player', frame)\n",
    "    \n",
    "    if(cv2.waitKey(10)==ord('q')):\n",
    "        break"
   ]
  },
  {
   "cell_type": "code",
   "execution_count": 29,
   "id": "6015aea2-5712-4626-b405-a19743a337ed",
   "metadata": {},
   "outputs": [],
   "source": [
    "my_video.release\n",
    "cv2.destroyAllWindows()"
   ]
  },
  {
   "cell_type": "code",
   "execution_count": null,
   "id": "3dbdd127-36ca-477c-9b50-9c8be661fb22",
   "metadata": {},
   "outputs": [],
   "source": []
  }
 ],
 "metadata": {
  "kernelspec": {
   "display_name": "Python 3 (ipykernel)",
   "language": "python",
   "name": "python3"
  },
  "language_info": {
   "codemirror_mode": {
    "name": "ipython",
    "version": 3
   },
   "file_extension": ".py",
   "mimetype": "text/x-python",
   "name": "python",
   "nbconvert_exporter": "python",
   "pygments_lexer": "ipython3",
   "version": "3.12.4"
  }
 },
 "nbformat": 4,
 "nbformat_minor": 5
}
