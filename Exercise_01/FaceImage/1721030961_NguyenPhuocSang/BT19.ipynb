{
 "cells": [
  {
   "cell_type": "code",
   "execution_count": 1,
   "id": "5e45580e-6058-4b8b-a734-2a086bf0cab7",
   "metadata": {},
   "outputs": [
    {
     "name": "stdout",
     "output_type": "stream",
     "text": [
      "Defaulting to user installation because normal site-packages is not writeable\n",
      "Collecting opencv-python\n",
      "  Downloading opencv_python-4.10.0.84-cp37-abi3-win_amd64.whl.metadata (20 kB)\n",
      "Requirement already satisfied: numpy>=1.21.2 in d:\\thigiac\\lib\\site-packages (from opencv-python) (1.26.4)\n",
      "Downloading opencv_python-4.10.0.84-cp37-abi3-win_amd64.whl (38.8 MB)\n",
      "   ---------------------------------------- 0.0/38.8 MB ? eta -:--:--\n",
      "   -- ------------------------------------- 2.1/38.8 MB 14.7 MB/s eta 0:00:03\n",
      "   -------- ------------------------------- 8.4/38.8 MB 28.8 MB/s eta 0:00:02\n",
      "   --------------- ------------------------ 14.9/38.8 MB 27.6 MB/s eta 0:00:01\n",
      "   ------------------- -------------------- 18.6/38.8 MB 25.0 MB/s eta 0:00:01\n",
      "   -------------------- ------------------- 20.2/38.8 MB 20.2 MB/s eta 0:00:01\n",
      "   --------------------- ------------------ 21.2/38.8 MB 18.1 MB/s eta 0:00:01\n",
      "   ----------------------- ---------------- 22.5/38.8 MB 16.2 MB/s eta 0:00:02\n",
      "   ------------------------ --------------- 23.9/38.8 MB 15.0 MB/s eta 0:00:02\n",
      "   -------------------------- ------------- 25.4/38.8 MB 13.9 MB/s eta 0:00:01\n",
      "   --------------------------- ------------ 26.5/38.8 MB 13.1 MB/s eta 0:00:01\n",
      "   ---------------------------- ----------- 27.8/38.8 MB 12.5 MB/s eta 0:00:01\n",
      "   ------------------------------ --------- 29.4/38.8 MB 11.9 MB/s eta 0:00:01\n",
      "   ------------------------------- -------- 30.7/38.8 MB 11.5 MB/s eta 0:00:01\n",
      "   -------------------------------- ------- 32.0/38.8 MB 11.2 MB/s eta 0:00:01\n",
      "   ---------------------------------- ----- 33.6/38.8 MB 10.8 MB/s eta 0:00:01\n",
      "   ----------------------------------- ---- 34.9/38.8 MB 10.6 MB/s eta 0:00:01\n",
      "   ------------------------------------- -- 36.4/38.8 MB 10.4 MB/s eta 0:00:01\n",
      "   ---------------------------------------  38.0/38.8 MB 10.2 MB/s eta 0:00:01\n",
      "   ---------------------------------------- 38.8/38.8 MB 10.0 MB/s eta 0:00:00\n",
      "Installing collected packages: opencv-python\n",
      "Successfully installed opencv-python-4.10.0.84\n"
     ]
    }
   ],
   "source": [
    "!pip install opencv-python\n"
   ]
  },
  {
   "cell_type": "code",
   "execution_count": 9,
   "id": "27af0eb9-0e1b-4a8d-bce3-03a7a3263396",
   "metadata": {},
   "outputs": [],
   "source": [
    "def display(title, img):\n",
    "    cv2.imshow(title, img)\n",
    "    # Chờ một khoảng thời gian\n",
    "    cv2.waitKey(0)\n",
    "    # Đóng window\n",
    "    cv2.destroyWindow(title)"
   ]
  },
  {
   "cell_type": "code",
   "execution_count": 11,
   "id": "371aec00-acdf-488e-9684-17f7f4156b9d",
   "metadata": {},
   "outputs": [],
   "source": [
    "import cv2"
   ]
  },
  {
   "cell_type": "code",
   "execution_count": 13,
   "id": "1fa8e8ef-988d-4afc-9756-6111bf601007",
   "metadata": {},
   "outputs": [
    {
     "name": "stdout",
     "output_type": "stream",
     "text": [
      "[[[233 242 246]\n",
      "  [233 242 246]\n",
      "  [233 242 246]\n",
      "  ...\n",
      "  [214 223 227]\n",
      "  [219 228 232]\n",
      "  [223 232 236]]\n",
      "\n",
      " [[233 242 246]\n",
      "  [233 242 246]\n",
      "  [233 242 246]\n",
      "  ...\n",
      "  [233 242 246]\n",
      "  [234 243 247]\n",
      "  [235 244 248]]\n",
      "\n",
      " [[233 242 246]\n",
      "  [233 242 246]\n",
      "  [233 242 246]\n",
      "  ...\n",
      "  [233 242 246]\n",
      "  [233 242 246]\n",
      "  [233 242 246]]\n",
      "\n",
      " ...\n",
      "\n",
      " [[233 242 246]\n",
      "  [233 242 246]\n",
      "  [233 242 246]\n",
      "  ...\n",
      "  [233 242 246]\n",
      "  [233 242 246]\n",
      "  [233 242 246]]\n",
      "\n",
      " [[233 242 246]\n",
      "  [233 242 246]\n",
      "  [233 242 246]\n",
      "  ...\n",
      "  [233 242 246]\n",
      "  [233 242 246]\n",
      "  [233 242 246]]\n",
      "\n",
      " [[233 242 246]\n",
      "  [233 242 246]\n",
      "  [233 242 246]\n",
      "  ...\n",
      "  [233 242 246]\n",
      "  [233 242 246]\n",
      "  [233 242 246]]]\n"
     ]
    }
   ],
   "source": [
    "# Đọc một ảnh (nhan TAB de nhin autocomplete)\n",
    "path= 'C:/Users/Admin/Downloads/01/02.jpg'\n",
    "img = cv2.imread(path)\n",
    "# In thông tin của ảnh\n",
    "print(img)"
   ]
  },
  {
   "cell_type": "code",
   "execution_count": 15,
   "id": "045908d0-1edb-4043-ac98-24e196d1984f",
   "metadata": {},
   "outputs": [
    {
     "name": "stdout",
     "output_type": "stream",
     "text": [
      "(137, 300, 3)\n",
      "137\n",
      "300\n",
      "3\n"
     ]
    }
   ],
   "source": [
    "print(img.shape)\n",
    "x, y, z = img.shape\n",
    "print(x)\n",
    "print(y)\n",
    "print(z)"
   ]
  },
  {
   "cell_type": "code",
   "execution_count": 17,
   "id": "2c35b08f-c8a0-46a0-9b47-bfd85037b29b",
   "metadata": {},
   "outputs": [],
   "source": [
    "cv2.imshow('Window', img)\n",
    "# Chờ một khoảng thời gian\n",
    "cv2.waitKey(10000)\n",
    "# Đóng window\n",
    "cv2.destroyWindow('Window')"
   ]
  },
  {
   "cell_type": "code",
   "execution_count": 19,
   "id": "3ead3998-120d-4034-8a12-7baa00fc871e",
   "metadata": {},
   "outputs": [],
   "source": [
    "b, g, r = cv2.split(img)\n",
    "cv2.imshow('Window', img)\n",
    "cv2.imshow('Red', r)\n",
    "cv2.imshow('Green', g)\n",
    "cv2.imshow('Blue', b)\n",
    "cv2.waitKey(0)\n",
    "cv2.destroyAllWindows()"
   ]
  },
  {
   "cell_type": "code",
   "execution_count": 48,
   "id": "c9cd4437-1a85-47c4-b8b9-ca8c8009ae59",
   "metadata": {},
   "outputs": [],
   "source": [
    "gray_img = cv2.cvtColor(img, cv2.COLOR_BGR2GRAY)\n",
    "img_2 = cv2.cvtColor(img, cv2.COLOR_BGR2RGB)\n",
    "cv2.imshow('Window', img)\n",
    "cv2.imshow('gray_img', gray_img)\n",
    "cv2.imshow('img_2', img_2)\n",
    "cv2.waitKey(0)\n",
    "cv2.destroyAllWindows()"
   ]
  },
  {
   "cell_type": "code",
   "execution_count": 46,
   "id": "9ced6e33-6e66-464e-88ae-05e79a5b90e5",
   "metadata": {},
   "outputs": [],
   "source": [
    "height, width, z = img.shape\n",
    "quater_h = height/2\n",
    "quater_w = width/2\n",
    "green_color = (0,255,0)\n",
    "\n",
    "img2 = img.copy()\n",
    "\n",
    "for y in range(int(quater_h)):\n",
    "    for x in range(int(quater_w)):\n",
    "        img2[y, x] = green_color\n",
    "\n",
    "display('Window', img)\n",
    "display('Window-2', img2)"
   ]
  },
  {
   "cell_type": "code",
   "execution_count": null,
   "id": "1c0a79e9-2c28-4cb2-b196-ec0d5e51344d",
   "metadata": {},
   "outputs": [],
   "source": []
  }
 ],
 "metadata": {
  "kernelspec": {
   "display_name": "Python 3 (ipykernel)",
   "language": "python",
   "name": "python3"
  },
  "language_info": {
   "codemirror_mode": {
    "name": "ipython",
    "version": 3
   },
   "file_extension": ".py",
   "mimetype": "text/x-python",
   "name": "python",
   "nbconvert_exporter": "python",
   "pygments_lexer": "ipython3",
   "version": "3.12.4"
  }
 },
 "nbformat": 4,
 "nbformat_minor": 5
}
