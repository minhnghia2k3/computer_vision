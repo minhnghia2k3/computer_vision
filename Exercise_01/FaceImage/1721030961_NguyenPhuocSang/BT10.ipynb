{
 "cells": [
  {
   "cell_type": "code",
   "execution_count": 15,
   "id": "c3f2560b-13bb-44d1-9662-1463b86b0ffa",
   "metadata": {},
   "outputs": [
    {
     "name": "stdout",
     "output_type": "stream",
     "text": [
      "[(55.145161290322584, 35.096774193548356), (88.0483870967742, 31.22580645161287), (164.50000000000003, 31.22580645161287), (240.4677419354839, 38.96774193548384), (242.8870967741936, 90.25806451612901), (179.50000000000003, 67.51612903225805), (105.4677419354839, 74.77419354838707), (42.08064516129033, 79.12903225806448)]\n"
     ]
    }
   ],
   "source": [
    "from PIL import Image\n",
    "import matplotlib.pyplot as plt\n",
    "\n",
    "my_path = 'C:/Users/Admin/Downloads/01/02.jpg'\n",
    "\n",
    "im = Image.open(my_path)\n",
    "\n",
    "plt.switch_backend('tkagg')\n",
    "plt.imshow(im)\n",
    "plt.title('Click on the image to select points')\n",
    "\n",
    "points = plt. ginput(8)\n",
    "print(points)\n",
    "plt. show()"
   ]
  },
  {
   "cell_type": "code",
   "execution_count": 17,
   "id": "3487915c-cd02-4880-92a7-bcf5302b7bb2",
   "metadata": {},
   "outputs": [],
   "source": [
    "plt.close()\n",
    "\n",
    "\n",
    "plt.imshow(im)\n",
    "for point in points:\n",
    "    x, y = point\n",
    "    plt.plot(x,y, 'r*')\n",
    "\n",
    "plt.show()"
   ]
  },
  {
   "cell_type": "code",
   "execution_count": null,
   "id": "fbd6d682-85c3-43cb-b668-80501ab7441f",
   "metadata": {},
   "outputs": [],
   "source": []
  }
 ],
 "metadata": {
  "kernelspec": {
   "display_name": "Python 3 (ipykernel)",
   "language": "python",
   "name": "python3"
  },
  "language_info": {
   "codemirror_mode": {
    "name": "ipython",
    "version": 3
   },
   "file_extension": ".py",
   "mimetype": "text/x-python",
   "name": "python",
   "nbconvert_exporter": "python",
   "pygments_lexer": "ipython3",
   "version": "3.12.4"
  }
 },
 "nbformat": 4,
 "nbformat_minor": 5
}
