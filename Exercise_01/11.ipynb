{
 "cells": [
  {
   "cell_type": "code",
   "id": "initial_id",
   "metadata": {
    "collapsed": true,
    "ExecuteTime": {
     "end_time": "2024-09-12T07:42:43.258431Z",
     "start_time": "2024-09-12T07:42:42.688589Z"
    }
   },
   "source": "import numpy as np\n",
   "outputs": [],
   "execution_count": 1
  },
  {
   "metadata": {
    "ExecuteTime": {
     "end_time": "2024-09-12T07:43:06.265176Z",
     "start_time": "2024-09-12T07:43:06.191892Z"
    }
   },
   "cell_type": "code",
   "source": [
    "a = np.array([1, 2, 3])\n",
    "\n",
    "print(a)\n",
    "\n",
    "element = a[1]\n",
    "print(element)"
   ],
   "id": "22361dff3c8ad488",
   "outputs": [
    {
     "name": "stdout",
     "output_type": "stream",
     "text": [
      "[1 2 3]\n",
      "2\n"
     ]
    }
   ],
   "execution_count": 2
  },
  {
   "metadata": {
    "ExecuteTime": {
     "end_time": "2024-09-12T07:43:56.215221Z",
     "start_time": "2024-09-12T07:43:56.204858Z"
    }
   },
   "cell_type": "code",
   "source": [
    "# 2D array\n",
    "matrix = np.array([[1, 2, 3], [4, 5, 6], [7, 8, 9]])\n",
    "print(\"matrix: \", matrix)\n",
    "\n",
    "element = matrix[1, 2]\n",
    "print(element)"
   ],
   "id": "7fd42f814fdc2114",
   "outputs": [
    {
     "name": "stdout",
     "output_type": "stream",
     "text": [
      "matrix:  [[1 2 3]\n",
      " [4 5 6]\n",
      " [7 8 9]]\n",
      "6\n"
     ]
    }
   ],
   "execution_count": 3
  },
  {
   "metadata": {
    "ExecuteTime": {
     "end_time": "2024-09-12T07:46:22.293245Z",
     "start_time": "2024-09-12T07:46:22.248005Z"
    }
   },
   "cell_type": "code",
   "source": [
    "# Tao mang 0\n",
    "a = np.zeros(5)\n",
    "print(a)\n",
    "\n",
    "# Tao mang so 1\n",
    "a = np.ones(5)\n",
    "print(a)\n",
    "\n",
    "# Tao mang rong\n",
    "a = np.empty(5)\n",
    "print(a)\n",
    "\n",
    "# tao mang tu 0 => 100\n",
    "a = np.arange(100)\n",
    "print(a)\n",
    "\n",
    "# Tao mang voi khoang cach deu nhau\n",
    "a = np.linspace(0, 10, num=5)\n",
    "print(a)\n",
    "\n",
    "a = np.ones(5, dtype=np.int64)\n",
    "a"
   ],
   "id": "926f13fd09cd1ddc",
   "outputs": [
    {
     "name": "stdout",
     "output_type": "stream",
     "text": [
      "[0. 0. 0. 0. 0.]\n",
      "[1. 1. 1. 1. 1.]\n",
      "[1. 1. 1. 1. 1.]\n",
      "[ 0  1  2  3  4  5  6  7  8  9 10 11 12 13 14 15 16 17 18 19 20 21 22 23\n",
      " 24 25 26 27 28 29 30 31 32 33 34 35 36 37 38 39 40 41 42 43 44 45 46 47\n",
      " 48 49 50 51 52 53 54 55 56 57 58 59 60 61 62 63 64 65 66 67 68 69 70 71\n",
      " 72 73 74 75 76 77 78 79 80 81 82 83 84 85 86 87 88 89 90 91 92 93 94 95\n",
      " 96 97 98 99]\n",
      "[ 0.   2.5  5.   7.5 10. ]\n"
     ]
    },
    {
     "data": {
      "text/plain": [
       "array([1, 1, 1, 1, 1])"
      ]
     },
     "execution_count": 4,
     "metadata": {},
     "output_type": "execute_result"
    }
   ],
   "execution_count": 4
  },
  {
   "metadata": {
    "ExecuteTime": {
     "end_time": "2024-09-12T07:49:12.321788Z",
     "start_time": "2024-09-12T07:49:12.270563Z"
    }
   },
   "cell_type": "code",
   "source": [
    "# Them xoa, sap xep mang\n",
    "\n",
    "# Tao mang ban dau\n",
    "arr = np.array([3, 1, 2, 4, 5])\n",
    "print(arr)\n",
    "\n",
    "# sap xep\n",
    "arr = np.sort(arr)\n",
    "print(arr)\n",
    "\n",
    "# sap xep nguoc\n",
    "arr = np.sort(arr)[::-1]\n",
    "print(arr)\n",
    "\n",
    "arr = np.append(arr, 100)\n",
    "print(arr)\n",
    "\n",
    "# Xoa di mot vi tri trong mang\n",
    "arr = np.delete(arr, 3)\n",
    "print(arr)"
   ],
   "id": "92f368725b934e25",
   "outputs": [
    {
     "name": "stdout",
     "output_type": "stream",
     "text": [
      "[3 1 2 4 5]\n",
      "[1 2 3 4 5]\n",
      "[5 4 3 2 1]\n",
      "[  5   4   3   2   1 100]\n",
      "[  5   4   3   1 100]\n"
     ]
    }
   ],
   "execution_count": 5
  },
  {
   "metadata": {
    "ExecuteTime": {
     "end_time": "2024-09-12T07:51:07.699764Z",
     "start_time": "2024-09-12T07:51:07.685076Z"
    }
   },
   "cell_type": "code",
   "source": [
    "# Tạo một mảng 2 chiều\n",
    "arr = np.array([[3, 1, 2],\n",
    "                [4, 6, 8],\n",
    "                [6, 6, 6]])\n",
    "\n",
    "row = np.sort(arr, axis=1)\n",
    "print(row)\n",
    "\n",
    "column = np.sort(arr, axis=0)\n",
    "print(column)\n"
   ],
   "id": "362927bb4ade7d87",
   "outputs": [
    {
     "name": "stdout",
     "output_type": "stream",
     "text": [
      "[[1 2 3]\n",
      " [4 6 8]\n",
      " [6 6 6]]\n",
      "[[3 1 2]\n",
      " [4 6 6]\n",
      " [6 6 8]]\n"
     ]
    }
   ],
   "execution_count": 6
  },
  {
   "metadata": {
    "ExecuteTime": {
     "end_time": "2024-09-12T07:51:24.170725Z",
     "start_time": "2024-09-12T07:51:24.143080Z"
    }
   },
   "cell_type": "code",
   "source": [
    "arr = np.array([[3, 1, 2],\n",
    "                [4, 2, 8],\n",
    "                [1, 7, 5]])\n",
    "\n",
    "sap_xep_theo_hang = -np.sort(-arr, axis=1)\n",
    "print(sap_xep_theo_hang)\n",
    "\n",
    "sap_xep_theo_cot = -np.sort(-arr, axis=0)\n",
    "print(sap_xep_theo_cot)"
   ],
   "id": "6c3b9539fb4a07",
   "outputs": [
    {
     "name": "stdout",
     "output_type": "stream",
     "text": [
      "[[3 2 1]\n",
      " [8 4 2]\n",
      " [7 5 1]]\n",
      "[[4 7 8]\n",
      " [3 2 5]\n",
      " [1 1 2]]\n"
     ]
    }
   ],
   "execution_count": 7
  },
  {
   "metadata": {
    "ExecuteTime": {
     "end_time": "2024-09-12T07:52:52.481621Z",
     "start_time": "2024-09-12T07:52:52.464179Z"
    }
   },
   "cell_type": "code",
   "source": [
    "# Tao mang 2D\n",
    "arr = np.array([[1, 2, 3], [3, 4, 4]])\n",
    "\n",
    "dimensions = arr.ndim\n",
    "size = arr.size\n",
    "shape = arr.shape\n",
    "\n",
    "print(dimensions)\n",
    "print(size)\n",
    "print(shape)\n"
   ],
   "id": "aad02e4ffd7c85a7",
   "outputs": [
    {
     "name": "stdout",
     "output_type": "stream",
     "text": [
      "2\n",
      "6\n",
      "(2, 3)\n"
     ]
    }
   ],
   "execution_count": 8
  },
  {
   "metadata": {
    "ExecuteTime": {
     "end_time": "2024-09-12T07:53:30.501395Z",
     "start_time": "2024-09-12T07:53:30.488894Z"
    }
   },
   "cell_type": "code",
   "source": [
    "arr = np.array([1, 2, 3, 4, 5])\n",
    "arr_float = arr.astype(float)\n",
    "print(arr_float)"
   ],
   "id": "49d8777258c608a9",
   "outputs": [
    {
     "name": "stdout",
     "output_type": "stream",
     "text": [
      "[1. 2. 3. 4. 5.]\n"
     ]
    }
   ],
   "execution_count": 9
  },
  {
   "metadata": {
    "ExecuteTime": {
     "end_time": "2024-09-12T07:54:09.841490Z",
     "start_time": "2024-09-12T07:54:09.817261Z"
    }
   },
   "cell_type": "code",
   "source": [
    "arr = np.array([1, 2, 3, 4, 5, 6])\n",
    "reshaped_arr = arr.reshape(2, 3)\n",
    "print(reshaped_arr)\n",
    "reshaped_arr = arr.reshape(3, 2)\n",
    "print(reshaped_arr)"
   ],
   "id": "298e0166286ebf87",
   "outputs": [
    {
     "name": "stdout",
     "output_type": "stream",
     "text": [
      "[[1 2 3]\n",
      " [4 5 6]]\n",
      "[[1 2]\n",
      " [3 4]\n",
      " [5 6]]\n"
     ]
    }
   ],
   "execution_count": 14
  },
  {
   "metadata": {
    "ExecuteTime": {
     "end_time": "2024-09-12T07:54:16.489716Z",
     "start_time": "2024-09-12T07:54:16.466799Z"
    }
   },
   "cell_type": "code",
   "source": [
    "eshaped_arr = reshaped_arr.flatten()  # chuyen thanh mang 1 chieu\n",
    "print(reshaped_arr)"
   ],
   "id": "f01820dbf2429323",
   "outputs": [
    {
     "name": "stdout",
     "output_type": "stream",
     "text": [
      "[[1 2]\n",
      " [3 4]\n",
      " [5 6]]\n"
     ]
    }
   ],
   "execution_count": 15
  },
  {
   "metadata": {
    "ExecuteTime": {
     "end_time": "2024-09-12T07:56:45.132939Z",
     "start_time": "2024-09-12T07:56:45.123653Z"
    }
   },
   "cell_type": "code",
   "source": [
    "# Slices\n",
    "arr = np.array([1, 2, 3, 4, 5])\n",
    "\n",
    "sub_arr = arr[1:4]\n",
    "print(sub_arr)\n",
    "\n",
    "sub_arr = arr[:-1]\n",
    "print(sub_arr)\n",
    "\n",
    "sub_arr = arr[-2:]\n",
    "print(sub_arr)"
   ],
   "id": "26fe0f9adb9524d1",
   "outputs": [
    {
     "name": "stdout",
     "output_type": "stream",
     "text": [
      "[2 3 4]\n",
      "[1 2 3 4]\n",
      "[4 5]\n"
     ]
    }
   ],
   "execution_count": 16
  },
  {
   "metadata": {
    "ExecuteTime": {
     "end_time": "2024-09-12T07:57:25.289363Z",
     "start_time": "2024-09-12T07:57:25.266655Z"
    }
   },
   "cell_type": "code",
   "source": [
    "arr = np.array([[1, 2, 3], [4, 5, 6]])\n",
    "print(arr)\n",
    "\n",
    "transposed_arr = arr.T\n",
    "print(transposed_arr)"
   ],
   "id": "a529aae6eef3ab48",
   "outputs": [
    {
     "name": "stdout",
     "output_type": "stream",
     "text": [
      "[[1 2 3]\n",
      " [4 5 6]]\n",
      "[[1 4]\n",
      " [2 5]\n",
      " [3 6]]\n"
     ]
    }
   ],
   "execution_count": 18
  },
  {
   "metadata": {
    "ExecuteTime": {
     "end_time": "2024-09-12T07:57:44.414631Z",
     "start_time": "2024-09-12T07:57:44.371643Z"
    }
   },
   "cell_type": "code",
   "source": [
    "arr1 = np.array([0, 5, 2])\n",
    "arr2 = np.array([4, 5, 6])\n",
    "arr = np.concatenate((arr1, arr2))\n",
    "print(arr)"
   ],
   "id": "b52484cde9ee7a36",
   "outputs": [
    {
     "name": "stdout",
     "output_type": "stream",
     "text": [
      "[0 5 2 4 5 6]\n"
     ]
    }
   ],
   "execution_count": 21
  },
  {
   "metadata": {
    "ExecuteTime": {
     "end_time": "2024-09-12T08:02:21.561154Z",
     "start_time": "2024-09-12T08:02:21.535298Z"
    }
   },
   "cell_type": "code",
   "source": [
    "arr = np.array([1, 0, 1, 9, 5])\n",
    "total = np.sum(arr)\n",
    "print(\"Sum of arr:\", total)\n",
    "\n",
    "average = np.mean(arr)\n",
    "print(\"Average of arr:\", average)\n",
    "\n",
    "max_value = np.max(arr)\n",
    "min_value = np.min(arr)\n",
    "print(\"Max value in arr:\", max_value)\n",
    "print(\"Min value in arr:\", min_value)\n",
    "\n",
    "std_deviation = np.std(arr)\n",
    "print(\"Standard deviation:\", std_deviation)\n",
    "\n",
    "variance = np.var(arr)\n",
    "print(\"Variance of array:\", variance)\n",
    "\n",
    "arr1 = np.array([6, 7, 8])\n",
    "arr2 = np.array([4, 5, 6])\n",
    "dot_product = np.dot(arr1, arr2)\n",
    "print(dot_product)\n",
    "\n"
   ],
   "id": "15717d2551a5a31e",
   "outputs": [
    {
     "name": "stdout",
     "output_type": "stream",
     "text": [
      "Sum of arr: 16\n",
      "Average of arr: 3.2\n",
      "Max value in arr: 9\n",
      "Min value in arr: 0\n",
      "Standard deviation: 3.3704599092705436\n",
      "Variance of array: 11.360000000000001\n",
      "107\n"
     ]
    }
   ],
   "execution_count": 23
  },
  {
   "metadata": {},
   "cell_type": "code",
   "outputs": [],
   "execution_count": null,
   "source": "",
   "id": "10b6058f80dbb05c"
  }
 ],
 "metadata": {
  "kernelspec": {
   "display_name": "Python 3",
   "language": "python",
   "name": "python3"
  },
  "language_info": {
   "codemirror_mode": {
    "name": "ipython",
    "version": 2
   },
   "file_extension": ".py",
   "mimetype": "text/x-python",
   "name": "python",
   "nbconvert_exporter": "python",
   "pygments_lexer": "ipython2",
   "version": "2.7.6"
  }
 },
 "nbformat": 4,
 "nbformat_minor": 5
}
