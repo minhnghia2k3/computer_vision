{
 "cells": [
  {
   "cell_type": "code",
   "id": "initial_id",
   "metadata": {
    "collapsed": true,
    "ExecuteTime": {
     "end_time": "2024-09-12T07:02:56.905029Z",
     "start_time": "2024-09-12T07:02:56.878485Z"
    }
   },
   "source": [
    "# Import thư viện\n",
    "from PIL import Image\n",
    "import matplotlib.pyplot as plt"
   ],
   "outputs": [],
   "execution_count": 6
  },
  {
   "metadata": {
    "ExecuteTime": {
     "end_time": "2024-09-12T07:04:33.762034Z",
     "start_time": "2024-09-12T07:04:32.115164Z"
    }
   },
   "cell_type": "code",
   "source": [
    "my_path = \"/Users/minhnghia2k3/Documents/Computer vision/Exercise_01/assets/cat_meme_03.png\"\n",
    "\n",
    "im = Image.open(my_path)\n",
    "\n",
    "plt.switch_backend('tkagg')\n",
    "\n",
    "plt.imshow(im)\n",
    "plt.title(\"click on the image to select points\")\n",
    "\n",
    "points = plt.ginput(6)\n",
    "\n",
    "print(points)\n",
    "\n",
    "plt.show()\n"
   ],
   "id": "5bdb16bbcb94c6d3",
   "outputs": [
    {
     "ename": "NameError",
     "evalue": "name 'Image' is not defined",
     "output_type": "error",
     "traceback": [
      "\u001B[0;31m---------------------------------------------------------------------------\u001B[0m",
      "\u001B[0;31mNameError\u001B[0m                                 Traceback (most recent call last)",
      "Cell \u001B[0;32mIn[1], line 3\u001B[0m\n\u001B[1;32m      1\u001B[0m my_path \u001B[38;5;241m=\u001B[39m \u001B[38;5;124m\"\u001B[39m\u001B[38;5;124m/Users/minhnghia2k3/Documents/Computer vision/Exercise_01/assets/cat_meme_03.png\u001B[39m\u001B[38;5;124m\"\u001B[39m\n\u001B[0;32m----> 3\u001B[0m im \u001B[38;5;241m=\u001B[39m Image\u001B[38;5;241m.\u001B[39mopen(my_path)\n\u001B[1;32m      5\u001B[0m plt\u001B[38;5;241m.\u001B[39mswitch_backend(\u001B[38;5;124m'\u001B[39m\u001B[38;5;124mtkagg\u001B[39m\u001B[38;5;124m'\u001B[39m)\n\u001B[1;32m      7\u001B[0m plt\u001B[38;5;241m.\u001B[39mimshow(im)\n",
      "\u001B[0;31mNameError\u001B[0m: name 'Image' is not defined"
     ]
    }
   ],
   "execution_count": 1
  },
  {
   "metadata": {
    "jupyter": {
     "is_executing": true
    },
    "ExecuteTime": {
     "end_time": "2024-09-12T07:04:33.861258Z",
     "start_time": "2024-09-12T07:03:14.231570Z"
    }
   },
   "cell_type": "code",
   "source": [
    "plt.close()\n",
    "\n",
    "plt.imshow(im)\n",
    "for point in points:\n",
    "    x,y = point\n",
    "    plt.plot(x,y,'r*')\n",
    "\n",
    "plt.show()"
   ],
   "id": "228c7f6056b485e4",
   "outputs": [],
   "execution_count": null
  },
  {
   "metadata": {},
   "cell_type": "code",
   "outputs": [],
   "execution_count": null,
   "source": "",
   "id": "a1b67f839e2814f4"
  }
 ],
 "metadata": {
  "kernelspec": {
   "display_name": "Python 3",
   "language": "python",
   "name": "python3"
  },
  "language_info": {
   "codemirror_mode": {
    "name": "ipython",
    "version": 2
   },
   "file_extension": ".py",
   "mimetype": "text/x-python",
   "name": "python",
   "nbconvert_exporter": "python",
   "pygments_lexer": "ipython2",
   "version": "2.7.6"
  }
 },
 "nbformat": 4,
 "nbformat_minor": 5
}
