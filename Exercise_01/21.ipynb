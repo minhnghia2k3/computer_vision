{
 "cells": [
  {
   "cell_type": "code",
   "id": "initial_id",
   "metadata": {
    "collapsed": true,
    "ExecuteTime": {
     "end_time": "2024-10-10T07:25:43.090037Z",
     "start_time": "2024-10-10T07:25:42.808215Z"
    }
   },
   "source": "import cv2\n",
   "outputs": [],
   "execution_count": 1
  },
  {
   "metadata": {
    "ExecuteTime": {
     "end_time": "2024-10-10T07:25:43.147764Z",
     "start_time": "2024-10-10T07:25:43.106421Z"
    }
   },
   "cell_type": "code",
   "source": "my_video = cv2.VideoCapture(\"./assets/30_fps_video.mp4\")",
   "id": "23a8d2513f524d08",
   "outputs": [],
   "execution_count": 2
  },
  {
   "metadata": {
    "ExecuteTime": {
     "end_time": "2024-10-10T07:25:43.477569Z",
     "start_time": "2024-10-10T07:25:43.287822Z"
    }
   },
   "cell_type": "code",
   "source": "cv2.namedWindow('Video Player', cv2.WINDOW_NORMAL)",
   "id": "dfa9ae61e2c6d5bf",
   "outputs": [],
   "execution_count": 3
  },
  {
   "metadata": {
    "ExecuteTime": {
     "end_time": "2024-10-10T07:25:54.073647Z",
     "start_time": "2024-10-10T07:25:48.999833Z"
    }
   },
   "cell_type": "code",
   "source": [
    "# Hiển thị từng khung ảnh\n",
    "while True:\n",
    "    # Đọc 1 frame\n",
    "    ret, frame = my_video.read()\n",
    "\n",
    "    # Thoát khi không thể đọc được frame\n",
    "    if not ret:\n",
    "        break\n",
    "\n",
    "    # Hiển thị\n",
    "    cv2.imshow('Video Player', frame)\n",
    "\n",
    "    if cv2.waitKey(10) == ord('q'):\n",
    "        break"
   ],
   "id": "c67c8c91ef5e6e91",
   "outputs": [],
   "execution_count": 4
  },
  {
   "metadata": {
    "ExecuteTime": {
     "end_time": "2024-10-10T07:25:57.168083Z",
     "start_time": "2024-10-10T07:25:57.140638Z"
    }
   },
   "cell_type": "code",
   "source": [
    "# Hủy bỏ player\n",
    "my_video.release\n",
    "cv2.destroyAllWindows()"
   ],
   "id": "3df027c50d437e01",
   "outputs": [],
   "execution_count": 5
  },
  {
   "metadata": {},
   "cell_type": "code",
   "outputs": [],
   "execution_count": null,
   "source": "",
   "id": "676f03dbc9f91b68"
  }
 ],
 "metadata": {
  "kernelspec": {
   "display_name": "Python 3",
   "language": "python",
   "name": "python3"
  },
  "language_info": {
   "codemirror_mode": {
    "name": "ipython",
    "version": 2
   },
   "file_extension": ".py",
   "mimetype": "text/x-python",
   "name": "python",
   "nbconvert_exporter": "python",
   "pygments_lexer": "ipython2",
   "version": "2.7.6"
  }
 },
 "nbformat": 4,
 "nbformat_minor": 5
}
