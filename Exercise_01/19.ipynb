{
 "cells": [
  {
   "cell_type": "code",
   "id": "initial_id",
   "metadata": {
    "collapsed": true,
    "ExecuteTime": {
     "end_time": "2024-10-10T06:39:49.949307Z",
     "start_time": "2024-10-10T06:39:49.938180Z"
    }
   },
   "source": [
    "import cv2\n",
    "\n",
    "import helpers"
   ],
   "outputs": [],
   "execution_count": 8
  },
  {
   "metadata": {
    "ExecuteTime": {
     "end_time": "2024-10-10T06:38:01.692196Z",
     "start_time": "2024-10-10T06:38:01.620846Z"
    }
   },
   "cell_type": "code",
   "source": [
    "path = \"/Users/minhnghia2k3/Documents/Computer vision/Exercise_01/assets/cat_stickers.jpeg\"\n",
    "img = cv2.imread(path)"
   ],
   "id": "b64e92283b00c6",
   "outputs": [],
   "execution_count": 4
  },
  {
   "metadata": {
    "ExecuteTime": {
     "end_time": "2024-10-10T06:26:40.350287Z",
     "start_time": "2024-10-10T06:26:40.101382Z"
    }
   },
   "cell_type": "code",
   "source": [
    "r,g,b = cv2.split(img)\n",
    "cv2.imshow(\"cat\", img)\n",
    "cv2.imshow(\"Red\", r)\n",
    "cv2.imshow(\"Green\", g)\n",
    "cv2.imshow(\"Blue\", b)\n",
    "\n",
    "cv2.waitKey(0)\n",
    "\n",
    "cv2.destroyAllWindows()"
   ],
   "id": "5aac740aa679bfe0",
   "outputs": [],
   "execution_count": 5
  },
  {
   "metadata": {
    "ExecuteTime": {
     "end_time": "2024-10-10T06:42:14.790753Z",
     "start_time": "2024-10-10T06:42:09.534219Z"
    }
   },
   "cell_type": "code",
   "source": [
    "gray_img = cv2.cvtColor(img, cv2.COLOR_BGR2GRAY)\n",
    "img_2 = cv2.cvtColor(img, cv2.COLOR_BGR2RGB)\n",
    "cv2.imshow('Window', img)\n",
    "cv2.imshow('gray_img', gray_img)\n",
    "cv2.imshow('img_2', img_2)\n",
    "\n",
    "cv2.waitKey(0)\n",
    "\n",
    "cv2.destroyAllWindows()"
   ],
   "id": "fd7aa41029ee27d3",
   "outputs": [],
   "execution_count": 10
  },
  {
   "metadata": {
    "ExecuteTime": {
     "end_time": "2024-10-10T06:40:44.789861Z",
     "start_time": "2024-10-10T06:39:55.232189Z"
    }
   },
   "cell_type": "code",
   "source": [
    "height, width, z = img.shape\n",
    "quater_h = height/2\n",
    "quater_w = width/2\n",
    "\n",
    "green_color = (0,255,0)\n",
    "\n",
    "img2 = img.copy()\n",
    "\n",
    "\n",
    "for y in range(int(quater_h)):\n",
    "    for x in range(int(quater_w)):\n",
    "        img2[y, x] = green_color\n",
    "        \n",
    "helpers.display_img('Window', img)\n",
    "helpers.display_img('Window-2', img2)"
   ],
   "id": "9af8e8966aa59f0",
   "outputs": [],
   "execution_count": 9
  },
  {
   "metadata": {},
   "cell_type": "code",
   "outputs": [],
   "execution_count": null,
   "source": "",
   "id": "d18085d7f99aeda1"
  }
 ],
 "metadata": {
  "kernelspec": {
   "display_name": "Python 3",
   "language": "python",
   "name": "python3"
  },
  "language_info": {
   "codemirror_mode": {
    "name": "ipython",
    "version": 2
   },
   "file_extension": ".py",
   "mimetype": "text/x-python",
   "name": "python",
   "nbconvert_exporter": "python",
   "pygments_lexer": "ipython2",
   "version": "2.7.6"
  }
 },
 "nbformat": 4,
 "nbformat_minor": 5
}
